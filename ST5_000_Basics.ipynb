{
  "nbformat": 4,
  "nbformat_minor": 0,
  "metadata": {
    "colab": {
      "name": "ST5-000-Basics.ipynb",
      "provenance": [],
      "collapsed_sections": [],
      "include_colab_link": true
    },
    "kernelspec": {
      "name": "python3",
      "display_name": "Python 3"
    },
    "language_info": {
      "name": "python"
    }
  },
  "cells": [
    {
      "cell_type": "markdown",
      "metadata": {
        "id": "view-in-github",
        "colab_type": "text"
      },
      "source": [
        "<a href=\"https://colab.research.google.com/github/HanlunAI/AIHKStudyGroup/blob/master/ST5_000_Basics.ipynb\" target=\"_parent\"><img src=\"https://colab.research.google.com/assets/colab-badge.svg\" alt=\"Open In Colab\"/></a>"
      ]
    },
    {
      "cell_type": "markdown",
      "source": [
        "# A Taste of Deep Learning through Python \n",
        "\n",
        "##Perface\n",
        "In the beginning, computers were invented with an aim to supplement human thinking methods, more specifically, to help us think straight through the midst of complexity. Using *Google Colab* (a programmable environment for Python from a broswer), this workshop offers a variety of stories of important concepts that might help audience make informed decisions for their future path and career. Instead of going into any technicality, we shall emphasize more on intuition behind many notions. In this approach, not only will audience be exposed to many mathematical and computational knowledge, but we will also get a taste of nowadays deep learning through Python."
      ],
      "metadata": {
        "id": "kaMI-iIAara7"
      }
    },
    {
      "cell_type": "markdown",
      "source": [
        "### 0.0 Motivation and Introduction"
      ],
      "metadata": {
        "id": "U-F8FgoApdip"
      }
    },
    {
      "cell_type": "markdown",
      "source": [
        "To begin our stories, let's start looking at, comparing and contrasting the following two figures:\n",
        "\n",
        "![picture](https://drive.google.com/uc?id=1GztE41F_UkPiVaDUnILbdc0orRXFFUQK)"
      ],
      "metadata": {
        "id": "_qLCQK-XEfnc"
      }
    },
    {
      "cell_type": "markdown",
      "source": [
        "In comparison, one should have noticed both pictures are pretty colorful. Indeed, both pictures are indicating labelling of certain data by their coloring!\n",
        "\n",
        "In contrast, one may observe that the coloring scheme on the left is discretized while the one on the right seems to be continuous. This is because they actually come from problems of rather different nature...\n",
        "\n",
        "By the end of the workshop, we shall learn that the left one attempts to visualize the landscape of a *classification problem* of digits; whereas the right one tries to model a physical system coming from a *boundary value problem*. Surprisingly, both problems can be solved with some optimization techniques known as *deep learning*. \n",
        "\n",
        "To this end, we shall devote our workshop into four main Colab notebooks, dedicating each of which to explore the **Basics**, the **Classics**, the **Modern**, and the **Frontiers** of relevant subjects."
      ],
      "metadata": {
        "id": "R3iy1-DrOK38"
      }
    },
    {
      "cell_type": "markdown",
      "source": [
        "### 0.1 Hello World"
      ],
      "metadata": {
        "id": "Z9qLs442pi3q"
      }
    },
    {
      "cell_type": "markdown",
      "source": [
        "Just like other programming course, we shall get ourselves familized with the programmable enviornment by saying hello. \n",
        "\n",
        "To do so, you may either type \"**Shift+Enter**\" or simply click the \"**Run**\" button in the next code cell."
      ],
      "metadata": {
        "id": "IuUj_rX-ORWx"
      }
    },
    {
      "cell_type": "code",
      "source": [
        "print(\"Hello World~\")"
      ],
      "metadata": {
        "id": "og4E3ohppsyJ",
        "colab": {
          "base_uri": "https://localhost:8080/"
        },
        "outputId": "773733b9-add8-471a-d737-8ca528b54f42"
      },
      "execution_count": null,
      "outputs": [
        {
          "output_type": "stream",
          "name": "stdout",
          "text": [
            "Hello World~\n"
          ]
        }
      ]
    },
    {
      "cell_type": "markdown",
      "source": [
        "There are *code cells* and *text cells* in a Colab notebook. For a smooth flow, please make sure you have run previous cells before running the next one."
      ],
      "metadata": {
        "id": "p66CRrGrFtXy"
      }
    },
    {
      "cell_type": "markdown",
      "source": [
        "### 0.2 Plotting\n"
      ],
      "metadata": {
        "id": "eAWFQC-xsEs6"
      }
    },
    {
      "cell_type": "markdown",
      "source": [
        "Python could be used like a calculator (a.k.a. computing device), but a really powerful one, largely thanks to its fabulous community that co-created many modules and packages. In ascending order of speciality, we have [NumPy](https://numpy.org/) for convenient array manipulation; [Matplotlib](https://matplotlib.org/) for visualization; [SciPy](https://scipy.org/) for scientific computing; [sklearn](https://scikit-learn.org/stable/) for machine learning; [TensorFlow](https://www.tensorflow.org/) and [PyTorch](https://pytorch.org/) for popular deep learning frameworks.\n",
        "\n",
        "And yet, we shall first make a simple function plot to relate *continuous input* to *categorial output*:"
      ],
      "metadata": {
        "id": "SiEHpd8hPVRO"
      }
    },
    {
      "cell_type": "code",
      "source": [
        "import numpy as np\n",
        "import matplotlib.pyplot as plt\n",
        "\n",
        "x = np.linspace(-30, 30, 6000, endpoint = False)\n",
        "#the standard logistic function\n",
        "y = 1/(1+np.exp(-x))\n",
        "#multiply a scaler to the input could control sharpness of jump in logistic function\n",
        "#y = 1/(1+np.exp(-(100*x)))\n",
        "#shifting is also easy, just remember to reset xlim if the shift is too much\n",
        "#y = 1/(1+np.exp(-(100*(x-10))))\n",
        "\n",
        "#you may google for more settings of Matplotlib\n",
        "plt.rcParams[\"figure.figsize\"] = (15,6)\n",
        "plt.xlim((-19.5,19.5))\n",
        "plt.title(\"Logistic Function y = f(x)\")\n",
        "plt.xlabel(\"x\")\n",
        "plt.ylabel(\"y\")\n",
        "plt.plot(x, y)\n",
        "plt.show()"
      ],
      "metadata": {
        "colab": {
          "base_uri": "https://localhost:8080/",
          "height": 404
        },
        "id": "728B7dkCCWzA",
        "outputId": "3ad33b8b-e1b9-4e73-c696-46495fe5d864"
      },
      "execution_count": null,
      "outputs": [
        {
          "output_type": "display_data",
          "data": {
            "text/plain": [
              "<Figure size 1080x432 with 1 Axes>"
            ],
            "image/png": "[encoded data removed]"
          },
          "metadata": {
            "needs_background": "light"
          }
        }
      ]
    },
    {
      "cell_type": "markdown",
      "source": [
        "**0.2.1** Tips\n",
        "\n",
        "*   You may add a code cell to explore the code if you wish. A better way to keep the notebook tidy is to select **Insert -> Scratch Code Cell**.\n",
        "*   One way to comment codes in Python begins with the hash mark “#”. You may uncomment some codes above to reshape the logistic function from its standard position.\n",
        "*   Suppose you want to look into certain variable, say **x**, you may run **print(x)**, or query its property with suitable methods such as **print(type(x))**, **print(len(x))**, **print(x.shape)**, **print(type(x[0]))**, **print(x[::50])**, etc.\n",
        "*   You may search google for more common practice in Python. More basics can be found in our Easter workshop. [Stack Overflow](https://stackoverflow.com/) is also your good friend.\n",
        "*   For higher dimensional analogs, there is a generalization known as the *softmax* function."
      ],
      "metadata": {
        "id": "zna4OOKfRSP2"
      }
    },
    {
      "cell_type": "markdown",
      "source": [
        "### 0.3 Approximation"
      ],
      "metadata": {
        "id": "Oo_so9iGpnpT"
      }
    },
    {
      "cell_type": "markdown",
      "source": [
        "S-shaped functions also occur often during the investigation of *Cumulative Distribution Functions (CDFs)* of random variables since CDFs are *monotonic increasing* function with $0$ as the asymptotic lower bound and $1$ as the asymptotic upper bound.\n",
        "\n",
        "Random variables are useful notions to describe disturbance in data. As disturbance/error may come from a mixture of various sources. A very common way of handling is to approximate by the [*Normal Distribution*](https://mathworld.wolfram.com/NormalDistribution.html) (also known as *Gaussian Distribution*), whose corresponding CDF is known as the *Gaussian error function*."
      ],
      "metadata": {
        "id": "bO-nz4WziacN"
      }
    },
    {
      "cell_type": "markdown",
      "source": [
        "**0.3.1** Toy Example\n",
        "\n",
        "Let's consider the scanning of $n$ pixels, each of which has an independently identically distributed chance of $0\\leq p \\leq 1$ for an error to occur. Then the total number of mis-scanned pixels would follow a [*Binomial Distribution*](https://mathworld.wolfram.com/BinomialDistribution.html) $B(n,p)$. For sufficiently large $n$, this can be approximated by a Normal Distribution $N(\\mu, \\sigma^2)$ where $\\mu = np$ and $\\sigma^2 = np(1-p)$, to match the first moment and second central moment. You may play with the next code cell to get some feelings."
      ],
      "metadata": {
        "id": "zhkg1uuMeYXf"
      }
    },
    {
      "cell_type": "code",
      "source": [
        "import numpy as np\n",
        "import matplotlib.pyplot as plt\n",
        "from scipy import special\n",
        "\n",
        "#@title Select values of p and n with the sliders and run the result\n",
        "n = 200#@param{type:\"slider\", max:1000, min:1, step:\"1\"}\n",
        "p = 0.2#@param{type:\"slider\", max:1, min:0, step:\"0.0001\"}\n",
        "plt.rcParams[\"figure.figsize\"] = (20,9)\n",
        "plt.title(\"Approximating Binomial Distribution with Normal Distribution\")\n",
        "\n",
        "def binomial(p):\n",
        "  count = 0\n",
        "  layer = np.array([1])\n",
        "  yield count, layer\n",
        "  q = 1-p\n",
        "  while True:\n",
        "    count += 1\n",
        "    first = np.append(layer*q, np.array([0]))\n",
        "    second = np.append(np.array([0]), layer*p)\n",
        "    layer = first + second\n",
        "    yield count, layer\n",
        "\n",
        "def bin(n, p):\n",
        "  for count, pmf in binomial(p):\n",
        "    if count == n:\n",
        "      support = np.array(range(n+1))\n",
        "      #first moment (mean)\n",
        "      mean = n*p #mean = np.dot(pmf, support)\n",
        "      #second central moment (varience)\n",
        "      varience = n*p*(1-p) #varience = np.dot(pmf, (support-mean)**2)\n",
        "      return mean, varience, pmf \n",
        "\n",
        "support = [i for i in range(n+1)]\n",
        "mean, varience, pmf = bin(n, p)\n",
        "plt.step(support, pmf.cumsum(), where='post')\n",
        "plt.fill_between(support, pmf, step=\"mid\", alpha=0.5, color = \"indigo\")\n",
        "\n",
        "x = np.linspace(0, n, 1000)\n",
        "Lx = (x-mean)/np.sqrt(varience)\n",
        "F = (special.erf(Lx/np.sqrt(2))+1)/2\n",
        "p = np.diff(F)/(x[1]-x[0])\n",
        "plt.plot(x, F, alpha=0.8)\n",
        "midpoint = (x[1:]+x[0:-1])/2\n",
        "plt.fill_between(midpoint, p, step=\"mid\", alpha=0.3, color = \"gold\")\n",
        "\n",
        "plt.ylabel(\"CDF/ pmf/ pdf\")\n",
        "plt.xlabel(\"i\")\n",
        "plt.show()\n"
      ],
      "metadata": {
        "colab": {
          "base_uri": "https://localhost:8080/",
          "height": 567
        },
        "cellView": "form",
        "id": "uTw-a5s_mlkw",
        "outputId": "8ba39d6c-aa61-498f-c4f8-3f9e8b909f7c"
      },
      "execution_count": null,
      "outputs": [
        {
          "output_type": "display_data",
          "data": {
            "text/plain": [
              "<Figure size 1440x648 with 1 Axes>"
            ],
            "image/png": "[encoded data removed]"
          },
          "metadata": {
            "needs_background": "light"
          }
        }
      ]
    },
    {
      "cell_type": "markdown",
      "source": [
        "**0.3.2** Checkpoint\n",
        "\n",
        "Choose different values of $n$ and $p$ with the sliders and re-run the previous code cell and attempt to walk through the following questions:-\n",
        "\n",
        "1.   Which curve correspond to the Cumulative Distribution Function (CDF) of $B(n,p)$?\n",
        "\n",
        "2.   Which curve correspond to the Cumulative Distribution Function (CDF) of $N(\\mu,\\sigma^2)$?\n",
        "\n",
        "3.   The relationship between CDFs of $B(n,p)$ and $N(\\mu,\\sigma^2)$?\n",
        "\n",
        "4.   Which filled area correspond to the probability mass function (pmf) of $B(n,p)$?\n",
        "\n",
        "5.   The relationship between CDF and pmf of $B(n,p)$?\n",
        "\n",
        "6.   Which filled area correspond to the probability density function (pdf) of $N(\\mu,\\sigma^2)$?\n",
        "\n",
        "7.   The relationship between CDF and pdf of $N(\\mu,\\sigma^2)$?\n",
        "\n",
        "8.   The relationship between pmf of $B(n,p)$ and pdf of $N(\\mu,\\sigma^2)$?\n",
        "\n"
      ],
      "metadata": {
        "id": "Ti_z5qzPRHX5"
      }
    },
    {
      "cell_type": "markdown",
      "source": [
        "**0.3.3** Remarks\n",
        "*   In reality, the distribution of error source may not be a binomial distribution, and may be even be unknown.\n",
        "\n",
        "*   Yet, ao long as we assume random variables are identically independently distributed (i.i.d.), we may refer to Central Limit Theorem (CLT) to approximate the average of these random variables with Gaussian Distribution for sufficiently many samples. While the toy example takes the scanning process of a pixel as a random variable, it can be generalized to the acquisition process of a datum in other cases.\n",
        "\n",
        "*   The toy example actually has very practical implication in the real world. Many scanning systems (such as QR codes and barcodes) employed genius idea from **error correction code** (a popular class is the [Reed-Solomon codes](https://en.wikiversity.org/wiki/Reed%E2%80%93Solomon_codes_for_coders)) to trade redundancy for fault-tolerant capability. In design of codes, an estimation of percentage of possible mis-scanned pixels would be helpful to determine how much redundancy to be allowed.\n",
        "\n",
        "*   A natural generalization of Gaussian Distribution in high dimension is the [multivariate Gaussian Distribution](https://en.wikipedia.org/wiki/Multivariate_normal_distribution) (a.k.a. multivariate Normal Distribution). This is extremely useful in our world of data science."
      ],
      "metadata": {
        "id": "WeGGk7VxemKl"
      }
    },
    {
      "cell_type": "markdown",
      "source": [
        "### [Go Ahead](https://github.com/HanlunAI/ATasteOfDeepLearning/blob/main/ST5-001-Classics.ipynb)\n",
        "\n",
        "The previous code cells are like fast recap and enrichment of what we learnt in our [Easter workshop](https://github.com/HanlunAI/NextGenCurriculumDemonstration). For those who didn't attend that workshop, you may feel free to walk through at your leisure [Demonstration Alpha](https://github.com/HanlunAI/NextGenCurriculumDemonstration/blob/main/DemonstrationAlpha.ipynb)-[Beta](https://github.com/HanlunAI/NextGenCurriculumDemonstration/blob/main/DemonstrationBeta.ipynb)-[Gamma](https://github.com/HanlunAI/NextGenCurriculumDemonstration/blob/main/DemonstrationGamma.ipynb)-[Delta](https://github.com/HanlunAI/NextGenCurriculumDemonstration/blob/main/DemonstrationDelta.ipynb)-[Epsilon](https://github.com/HanlunAI/NextGenCurriculumDemonstration/blob/main/DemonstrationEpsilon.ipynb) and [other variants](https://github.com/HanlunAI/NextGenCurriculumDemonstration/blob/main/CollaborationDerivatives.ipynb) to get yourself familized with some basic data types, operation, function, control flow, recursion, plottings in Colab.\n",
        "\n",
        "Last and foremost, note that materials in both workshop are shared with [MIT License](https://en.wikipedia.org/wiki/MIT_License), that allows duplication and re-distribution upon the inclusion of [copyright notice](https://github.com/HanlunAI/ATasteOfDeepLearning/blob/main/LICENSE)."
      ],
      "metadata": {
        "id": "s5XpPOY8NFzB"
      }
    },
    {
      "cell_type": "markdown",
      "source": [
        "© Hanlun Artificial Intelligence Limited"
      ],
      "metadata": {
        "id": "-DSw6XI9inxF"
      }
    }
  ]
}